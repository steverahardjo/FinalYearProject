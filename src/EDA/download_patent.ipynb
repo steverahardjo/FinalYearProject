{
 "cells": [
  {
   "cell_type": "code",
   "execution_count": 12,
   "metadata": {},
   "outputs": [],
   "source": [
    "\n",
    "import pandas as pd\n"
   ]
  },
  {
   "cell_type": "code",
   "execution_count": 30,
   "metadata": {},
   "outputs": [
    {
     "name": "stderr",
     "output_type": "stream",
     "text": [
      "c:\\Users\\ASUS\\AppData\\Local\\Programs\\PythonCodingPack\\lib\\site-packages\\urllib3\\connectionpool.py:1099: InsecureRequestWarning: Unverified HTTPS request is being made to host 'developer.uspto.gov'. Adding certificate verification is strongly advised. See: https://urllib3.readthedocs.io/en/latest/advanced-usage.html#tls-warnings\n",
      "  warnings.warn(\n",
      "c:\\Users\\ASUS\\AppData\\Local\\Programs\\PythonCodingPack\\lib\\site-packages\\urllib3\\connectionpool.py:1099: InsecureRequestWarning: Unverified HTTPS request is being made to host 'developer.uspto.gov'. Adding certificate verification is strongly advised. See: https://urllib3.readthedocs.io/en/latest/advanced-usage.html#tls-warnings\n",
      "  warnings.warn(\n",
      "c:\\Users\\ASUS\\AppData\\Local\\Programs\\PythonCodingPack\\lib\\site-packages\\urllib3\\connectionpool.py:1099: InsecureRequestWarning: Unverified HTTPS request is being made to host 'developer.uspto.gov'. Adding certificate verification is strongly advised. See: https://urllib3.readthedocs.io/en/latest/advanced-usage.html#tls-warnings\n",
      "  warnings.warn(\n",
      "c:\\Users\\ASUS\\AppData\\Local\\Programs\\PythonCodingPack\\lib\\site-packages\\urllib3\\connectionpool.py:1099: InsecureRequestWarning: Unverified HTTPS request is being made to host 'developer.uspto.gov'. Adding certificate verification is strongly advised. See: https://urllib3.readthedocs.io/en/latest/advanced-usage.html#tls-warnings\n",
      "  warnings.warn(\n",
      "c:\\Users\\ASUS\\AppData\\Local\\Programs\\PythonCodingPack\\lib\\site-packages\\urllib3\\connectionpool.py:1099: InsecureRequestWarning: Unverified HTTPS request is being made to host 'developer.uspto.gov'. Adding certificate verification is strongly advised. See: https://urllib3.readthedocs.io/en/latest/advanced-usage.html#tls-warnings\n",
      "  warnings.warn(\n"
     ]
    },
    {
     "name": "stdout",
     "output_type": "stream",
     "text": [
      "Data saved to patents_data.json.\n"
     ]
    }
   ],
   "source": [
    "\n",
    "\n",
    "def download_patents(params: dict, output_file: str, max_count: int):\n",
    "    if not isinstance(params, dict):\n",
    "        raise TypeError(\"params must be a dictionary\")\n",
    "\n",
    "    all_results = []  # List to store all the results\n",
    "    total_count = 0  # Counter for the number of results fetched\n",
    "\n",
    "    try:\n",
    "        params[\"start\"] = 0  # Initialize start parameter\n",
    "        params[\"rows\"] = 100  # Number of results per page\n",
    "\n",
    "        while total_count < max_count:\n",
    "            response = requests.get(\n",
    "                \"https://developer.uspto.gov/ibd-api/v1/application/publications\", params, verify=False\n",
    "            )\n",
    "            result = response.json()\n",
    "            \n",
    "            # Get the current page of results\n",
    "            results = result.get('results', [])\n",
    "            \n",
    "            # If no results, break out of the loop\n",
    "            if not results:\n",
    "                break\n",
    "            \n",
    "            # Append the current page of results to the list\n",
    "            all_results.extend(results)\n",
    "            \n",
    "            # Update the total count\n",
    "            total_count += len(results)\n",
    "            \n",
    "            # Check if the maximum count has been reached\n",
    "            if total_count >= max_count:\n",
    "                all_results = all_results[:max_count]  # Trim the list to max_count if necessary\n",
    "                break\n",
    "\n",
    "            # Update start parameter for the next page\n",
    "            params[\"start\"] += params[\"rows\"]\n",
    "\n",
    "        # Create the formatted output dictionary\n",
    "        formatted_output = {\"results\": []}\n",
    "        \n",
    "        for item in all_results:\n",
    "            formatted_item = {\n",
    "                \"inventionSubjectMatterCategory\": item.get(\"inventionSubjectMatterCategory\"),\n",
    "                \"patentApplicationNumber\": item.get(\"patentApplicationNumber\"),\n",
    "                \"filingDate\": item.get(\"filingDate\"),\n",
    "                \"mainCPCSymbolText\": item.get(\"mainCPCSymbolText\"),\n",
    "                \"furtherCPCSymbolArrayText\": item.get(\"furtherCPCSymbolArrayText\"),\n",
    "                \"inventorNameArrayText\": item.get(\"inventorNameArrayText\", []),\n",
    "                \"abstractText\": item.get(\"abstractText\", []),\n",
    "                \"assigneeEntityName\": item.get(\"assigneeEntityName\"),\n",
    "                \"assigneePostalAddressText\": item.get(\"assigneePostalAddressText\"),\n",
    "                \"inventionTitle\": item.get(\"inventionTitle\"),\n",
    "                \"filelocationURI\": item.get(\"filelocationURI\"),\n",
    "                \"archiveURI\": item.get(\"archiveURI\"),\n",
    "                \"claimText\": item.get(\"claimText\", []),\n",
    "                \"descriptionText\": item.get(\"descriptionText\", [])\n",
    "            }\n",
    "            formatted_output[\"results\"].append(formatted_item)\n",
    "\n",
    "        # Save formatted output to a JSON file\n",
    "        with open(output_file, 'w') as f:\n",
    "            import json\n",
    "            json.dump(formatted_output, f, indent=4)\n",
    "\n",
    "        print(f\"Data saved to {output_file}.\")\n",
    "\n",
    "    except requests.exceptions.RequestException as e:\n",
    "        print(f\"Error fetching patents: {e}\")\n",
    "\n",
    "if __name__ == \"__main__\":\n",
    "    params = {\n",
    "        'start': 0,\n",
    "        'rows': 100  # Fetch 100 records per page\n",
    "    }\n",
    "    download_patents(params, \"patents_data.json\", max_count=500)\n",
    "\n",
    "\n"
   ]
  },
  {
   "cell_type": "code",
   "execution_count": 13,
   "metadata": {},
   "outputs": [
    {
     "data": {
      "text/html": [
       "<div>\n",
       "<style scoped>\n",
       "    .dataframe tbody tr th:only-of-type {\n",
       "        vertical-align: middle;\n",
       "    }\n",
       "\n",
       "    .dataframe tbody tr th {\n",
       "        vertical-align: top;\n",
       "    }\n",
       "\n",
       "    .dataframe thead th {\n",
       "        text-align: right;\n",
       "    }\n",
       "</style>\n",
       "<table border=\"1\" class=\"dataframe\">\n",
       "  <thead>\n",
       "    <tr style=\"text-align: right;\">\n",
       "      <th></th>\n",
       "      <th>inventionSubjectMatterCategory</th>\n",
       "      <th>patentApplicationNumber</th>\n",
       "      <th>filingDate</th>\n",
       "      <th>mainCPCSymbolText</th>\n",
       "      <th>furtherCPCSymbolArrayText</th>\n",
       "      <th>inventorNameArrayText</th>\n",
       "      <th>abstractText</th>\n",
       "      <th>assigneeEntityName</th>\n",
       "      <th>assigneePostalAddressText</th>\n",
       "      <th>inventionTitle</th>\n",
       "      <th>filelocationURI</th>\n",
       "      <th>archiveURI</th>\n",
       "      <th>claimText</th>\n",
       "      <th>descriptionText</th>\n",
       "      <th>publicationDate</th>\n",
       "      <th>publicationDocumentIdentifier</th>\n",
       "    </tr>\n",
       "  </thead>\n",
       "  <tbody>\n",
       "    <tr>\n",
       "      <th>0</th>\n",
       "      <td>utility</td>\n",
       "      <td>US13027052</td>\n",
       "      <td>02-14-2011</td>\n",
       "      <td>None</td>\n",
       "      <td>None</td>\n",
       "      <td>[Powell Michael Charlton, Stokes Leslie James]</td>\n",
       "      <td>[The present invention provides a hand-utility...</td>\n",
       "      <td>None</td>\n",
       "      <td>None</td>\n",
       "      <td>HAND UTILITY INTERFACE</td>\n",
       "      <td>https://dh-opendata.s3.amazonaws.com/publicati...</td>\n",
       "      <td>https://bulkdata.uspto.gov/data/patent/applica...</td>\n",
       "      <td>[1. A hand-utility interface for use in protec...</td>\n",
       "      <td>[The present invention relates to a hand-utili...</td>\n",
       "      <td>01-05-2012</td>\n",
       "      <td>US20120000001A1</td>\n",
       "    </tr>\n",
       "    <tr>\n",
       "      <th>1</th>\n",
       "      <td>utility</td>\n",
       "      <td>US12803617</td>\n",
       "      <td>07-01-2010</td>\n",
       "      <td>None</td>\n",
       "      <td>None</td>\n",
       "      <td>None</td>\n",
       "      <td>[This invention, titled “Thumb-eez”, are a cel...</td>\n",
       "      <td>None</td>\n",
       "      <td>None</td>\n",
       "      <td>Thumb-eez</td>\n",
       "      <td>https://dh-opendata.s3.amazonaws.com/publicati...</td>\n",
       "      <td>https://bulkdata.uspto.gov/data/patent/applica...</td>\n",
       "      <td>[1. Thumb-eez allow more precise typing on min...</td>\n",
       "      <td>[Not ApplicableNot ApplicableNot ApplicableThi...</td>\n",
       "      <td>01-05-2012</td>\n",
       "      <td>US20120000002A1</td>\n",
       "    </tr>\n",
       "    <tr>\n",
       "      <th>2</th>\n",
       "      <td>utility</td>\n",
       "      <td>US13231432</td>\n",
       "      <td>09-13-2011</td>\n",
       "      <td>None</td>\n",
       "      <td>None</td>\n",
       "      <td>[Matthews Kevin L.]</td>\n",
       "      <td>[A garment assembly includes a garment and a s...</td>\n",
       "      <td>CABELA'S INC.</td>\n",
       "      <td>Sidney, US</td>\n",
       "      <td>GARMENT ASSEMBLY WITH DEPLOYABLE SEAT</td>\n",
       "      <td>https://dh-opendata.s3.amazonaws.com/publicati...</td>\n",
       "      <td>https://bulkdata.uspto.gov/data/patent/applica...</td>\n",
       "      <td>[1. A garment assembly comprising:a garment;a ...</td>\n",
       "      <td>[This application is a continuation of and cla...</td>\n",
       "      <td>01-05-2012</td>\n",
       "      <td>US20120000003A1</td>\n",
       "    </tr>\n",
       "    <tr>\n",
       "      <th>3</th>\n",
       "      <td>utility</td>\n",
       "      <td>US13256180</td>\n",
       "      <td>03-15-2010</td>\n",
       "      <td>None</td>\n",
       "      <td>None</td>\n",
       "      <td>None</td>\n",
       "      <td>[Exemplary embodiments of a quick release garm...</td>\n",
       "      <td>THF Innovation Pty Ltd.</td>\n",
       "      <td>Victoria, AU</td>\n",
       "      <td>QUICK RELEASE GARMENT</td>\n",
       "      <td>https://dh-opendata.s3.amazonaws.com/publicati...</td>\n",
       "      <td>https://bulkdata.uspto.gov/data/patent/applica...</td>\n",
       "      <td>[121-. (canceled)22. A quick release garment  ...</td>\n",
       "      <td>[This application is a U.S. National Stage app...</td>\n",
       "      <td>01-05-2012</td>\n",
       "      <td>US20120000004A1</td>\n",
       "    </tr>\n",
       "    <tr>\n",
       "      <th>4</th>\n",
       "      <td>utility</td>\n",
       "      <td>US13159551</td>\n",
       "      <td>06-14-2011</td>\n",
       "      <td>None</td>\n",
       "      <td>None</td>\n",
       "      <td>[Kishihara Hidetoshi, Ii Yasuyuki]</td>\n",
       "      <td>[A glove with a coating layer of rubber contai...</td>\n",
       "      <td>SHOWA GLOVE CO.</td>\n",
       "      <td>Himeji-shi, JP</td>\n",
       "      <td>GLOVE AND METHOD FOR PRODUCING THE SAME</td>\n",
       "      <td>https://dh-opendata.s3.amazonaws.com/publicati...</td>\n",
       "      <td>https://bulkdata.uspto.gov/data/patent/applica...</td>\n",
       "      <td>[1. A glove provided with a coating layer of r...</td>\n",
       "      <td>[1. Field of the InventionThe present inventio...</td>\n",
       "      <td>01-05-2012</td>\n",
       "      <td>US20120000005A1</td>\n",
       "    </tr>\n",
       "  </tbody>\n",
       "</table>\n",
       "</div>"
      ],
      "text/plain": [
       "  inventionSubjectMatterCategory patentApplicationNumber  filingDate  \\\n",
       "0                        utility              US13027052  02-14-2011   \n",
       "1                        utility              US12803617  07-01-2010   \n",
       "2                        utility              US13231432  09-13-2011   \n",
       "3                        utility              US13256180  03-15-2010   \n",
       "4                        utility              US13159551  06-14-2011   \n",
       "\n",
       "  mainCPCSymbolText furtherCPCSymbolArrayText  \\\n",
       "0              None                      None   \n",
       "1              None                      None   \n",
       "2              None                      None   \n",
       "3              None                      None   \n",
       "4              None                      None   \n",
       "\n",
       "                            inventorNameArrayText  \\\n",
       "0  [Powell Michael Charlton, Stokes Leslie James]   \n",
       "1                                            None   \n",
       "2                             [Matthews Kevin L.]   \n",
       "3                                            None   \n",
       "4              [Kishihara Hidetoshi, Ii Yasuyuki]   \n",
       "\n",
       "                                        abstractText       assigneeEntityName  \\\n",
       "0  [The present invention provides a hand-utility...                     None   \n",
       "1  [This invention, titled “Thumb-eez”, are a cel...                     None   \n",
       "2  [A garment assembly includes a garment and a s...            CABELA'S INC.   \n",
       "3  [Exemplary embodiments of a quick release garm...  THF Innovation Pty Ltd.   \n",
       "4  [A glove with a coating layer of rubber contai...          SHOWA GLOVE CO.   \n",
       "\n",
       "  assigneePostalAddressText                           inventionTitle  \\\n",
       "0                      None                   HAND UTILITY INTERFACE   \n",
       "1                      None                                Thumb-eez   \n",
       "2                Sidney, US    GARMENT ASSEMBLY WITH DEPLOYABLE SEAT   \n",
       "3              Victoria, AU                    QUICK RELEASE GARMENT   \n",
       "4            Himeji-shi, JP  GLOVE AND METHOD FOR PRODUCING THE SAME   \n",
       "\n",
       "                                     filelocationURI  \\\n",
       "0  https://dh-opendata.s3.amazonaws.com/publicati...   \n",
       "1  https://dh-opendata.s3.amazonaws.com/publicati...   \n",
       "2  https://dh-opendata.s3.amazonaws.com/publicati...   \n",
       "3  https://dh-opendata.s3.amazonaws.com/publicati...   \n",
       "4  https://dh-opendata.s3.amazonaws.com/publicati...   \n",
       "\n",
       "                                          archiveURI  \\\n",
       "0  https://bulkdata.uspto.gov/data/patent/applica...   \n",
       "1  https://bulkdata.uspto.gov/data/patent/applica...   \n",
       "2  https://bulkdata.uspto.gov/data/patent/applica...   \n",
       "3  https://bulkdata.uspto.gov/data/patent/applica...   \n",
       "4  https://bulkdata.uspto.gov/data/patent/applica...   \n",
       "\n",
       "                                           claimText  \\\n",
       "0  [1. A hand-utility interface for use in protec...   \n",
       "1  [1. Thumb-eez allow more precise typing on min...   \n",
       "2  [1. A garment assembly comprising:a garment;a ...   \n",
       "3  [121-. (canceled)22. A quick release garment  ...   \n",
       "4  [1. A glove provided with a coating layer of r...   \n",
       "\n",
       "                                     descriptionText publicationDate  \\\n",
       "0  [The present invention relates to a hand-utili...      01-05-2012   \n",
       "1  [Not ApplicableNot ApplicableNot ApplicableThi...      01-05-2012   \n",
       "2  [This application is a continuation of and cla...      01-05-2012   \n",
       "3  [This application is a U.S. National Stage app...      01-05-2012   \n",
       "4  [1. Field of the InventionThe present inventio...      01-05-2012   \n",
       "\n",
       "  publicationDocumentIdentifier  \n",
       "0               US20120000001A1  \n",
       "1               US20120000002A1  \n",
       "2               US20120000003A1  \n",
       "3               US20120000004A1  \n",
       "4               US20120000005A1  "
      ]
     },
     "execution_count": 13,
     "metadata": {},
     "output_type": "execute_result"
    }
   ],
   "source": [
    "\n",
    "df = pd.read_json(\"filtered_patents_data_20240915_162508.json\")\n",
    "\n",
    "# If the 'results' column contains nested dictionaries, we can normalize it\n",
    "df = pd.json_normalize(df['results'])\n",
    "\n",
    "# Display the first few rows of the normalized DataFrame\n",
    "df.head()\n",
    "\n",
    "\n",
    "\n"
   ]
  },
  {
   "cell_type": "markdown",
   "metadata": {},
   "source": [
    "### Pre-processing"
   ]
  },
  {
   "cell_type": "code",
   "execution_count": 14,
   "metadata": {},
   "outputs": [
    {
     "name": "stdout",
     "output_type": "stream",
     "text": [
      "<class 'pandas.core.frame.DataFrame'>\n",
      "RangeIndex: 100 entries, 0 to 99\n",
      "Data columns (total 16 columns):\n",
      " #   Column                          Non-Null Count  Dtype \n",
      "---  ------                          --------------  ----- \n",
      " 0   inventionSubjectMatterCategory  100 non-null    object\n",
      " 1   patentApplicationNumber         100 non-null    object\n",
      " 2   filingDate                      100 non-null    object\n",
      " 3   mainCPCSymbolText               0 non-null      object\n",
      " 4   furtherCPCSymbolArrayText       0 non-null      object\n",
      " 5   inventorNameArrayText           80 non-null     object\n",
      " 6   abstractText                    100 non-null    object\n",
      " 7   assigneeEntityName              47 non-null     object\n",
      " 8   assigneePostalAddressText       47 non-null     object\n",
      " 9   inventionTitle                  100 non-null    object\n",
      " 10  filelocationURI                 100 non-null    object\n",
      " 11  archiveURI                      100 non-null    object\n",
      " 12  claimText                       100 non-null    object\n",
      " 13  descriptionText                 100 non-null    object\n",
      " 14  publicationDate                 100 non-null    object\n",
      " 15  publicationDocumentIdentifier   100 non-null    object\n",
      "dtypes: object(16)\n",
      "memory usage: 12.6+ KB\n"
     ]
    }
   ],
   "source": [
    "df.info()"
   ]
  },
  {
   "cell_type": "code",
   "execution_count": 15,
   "metadata": {},
   "outputs": [
    {
     "data": {
      "text/html": [
       "<div>\n",
       "<style scoped>\n",
       "    .dataframe tbody tr th:only-of-type {\n",
       "        vertical-align: middle;\n",
       "    }\n",
       "\n",
       "    .dataframe tbody tr th {\n",
       "        vertical-align: top;\n",
       "    }\n",
       "\n",
       "    .dataframe thead th {\n",
       "        text-align: right;\n",
       "    }\n",
       "</style>\n",
       "<table border=\"1\" class=\"dataframe\">\n",
       "  <thead>\n",
       "    <tr style=\"text-align: right;\">\n",
       "      <th></th>\n",
       "      <th>inventionSubjectMatterCategory</th>\n",
       "      <th>patentApplicationNumber</th>\n",
       "      <th>filingDate</th>\n",
       "      <th>inventorNameArrayText</th>\n",
       "      <th>abstractText</th>\n",
       "      <th>assigneeEntityName</th>\n",
       "      <th>assigneePostalAddressText</th>\n",
       "      <th>inventionTitle</th>\n",
       "      <th>filelocationURI</th>\n",
       "      <th>archiveURI</th>\n",
       "      <th>claimText</th>\n",
       "      <th>descriptionText</th>\n",
       "      <th>publicationDate</th>\n",
       "      <th>publicationDocumentIdentifier</th>\n",
       "    </tr>\n",
       "  </thead>\n",
       "  <tbody>\n",
       "    <tr>\n",
       "      <th>0</th>\n",
       "      <td>utility</td>\n",
       "      <td>US13027052</td>\n",
       "      <td>02-14-2011</td>\n",
       "      <td>[Powell Michael Charlton, Stokes Leslie James]</td>\n",
       "      <td>[The present invention provides a hand-utility...</td>\n",
       "      <td>None</td>\n",
       "      <td>None</td>\n",
       "      <td>HAND UTILITY INTERFACE</td>\n",
       "      <td>https://dh-opendata.s3.amazonaws.com/publicati...</td>\n",
       "      <td>https://bulkdata.uspto.gov/data/patent/applica...</td>\n",
       "      <td>[1. A hand-utility interface for use in protec...</td>\n",
       "      <td>[The present invention relates to a hand-utili...</td>\n",
       "      <td>01-05-2012</td>\n",
       "      <td>US20120000001A1</td>\n",
       "    </tr>\n",
       "    <tr>\n",
       "      <th>1</th>\n",
       "      <td>utility</td>\n",
       "      <td>US12803617</td>\n",
       "      <td>07-01-2010</td>\n",
       "      <td>None</td>\n",
       "      <td>[This invention, titled “Thumb-eez”, are a cel...</td>\n",
       "      <td>None</td>\n",
       "      <td>None</td>\n",
       "      <td>Thumb-eez</td>\n",
       "      <td>https://dh-opendata.s3.amazonaws.com/publicati...</td>\n",
       "      <td>https://bulkdata.uspto.gov/data/patent/applica...</td>\n",
       "      <td>[1. Thumb-eez allow more precise typing on min...</td>\n",
       "      <td>[Not ApplicableNot ApplicableNot ApplicableThi...</td>\n",
       "      <td>01-05-2012</td>\n",
       "      <td>US20120000002A1</td>\n",
       "    </tr>\n",
       "    <tr>\n",
       "      <th>2</th>\n",
       "      <td>utility</td>\n",
       "      <td>US13231432</td>\n",
       "      <td>09-13-2011</td>\n",
       "      <td>[Matthews Kevin L.]</td>\n",
       "      <td>[A garment assembly includes a garment and a s...</td>\n",
       "      <td>CABELA'S INC.</td>\n",
       "      <td>Sidney, US</td>\n",
       "      <td>GARMENT ASSEMBLY WITH DEPLOYABLE SEAT</td>\n",
       "      <td>https://dh-opendata.s3.amazonaws.com/publicati...</td>\n",
       "      <td>https://bulkdata.uspto.gov/data/patent/applica...</td>\n",
       "      <td>[1. A garment assembly comprising:a garment;a ...</td>\n",
       "      <td>[This application is a continuation of and cla...</td>\n",
       "      <td>01-05-2012</td>\n",
       "      <td>US20120000003A1</td>\n",
       "    </tr>\n",
       "    <tr>\n",
       "      <th>3</th>\n",
       "      <td>utility</td>\n",
       "      <td>US13256180</td>\n",
       "      <td>03-15-2010</td>\n",
       "      <td>None</td>\n",
       "      <td>[Exemplary embodiments of a quick release garm...</td>\n",
       "      <td>THF Innovation Pty Ltd.</td>\n",
       "      <td>Victoria, AU</td>\n",
       "      <td>QUICK RELEASE GARMENT</td>\n",
       "      <td>https://dh-opendata.s3.amazonaws.com/publicati...</td>\n",
       "      <td>https://bulkdata.uspto.gov/data/patent/applica...</td>\n",
       "      <td>[121-. (canceled)22. A quick release garment  ...</td>\n",
       "      <td>[This application is a U.S. National Stage app...</td>\n",
       "      <td>01-05-2012</td>\n",
       "      <td>US20120000004A1</td>\n",
       "    </tr>\n",
       "    <tr>\n",
       "      <th>4</th>\n",
       "      <td>utility</td>\n",
       "      <td>US13159551</td>\n",
       "      <td>06-14-2011</td>\n",
       "      <td>[Kishihara Hidetoshi, Ii Yasuyuki]</td>\n",
       "      <td>[A glove with a coating layer of rubber contai...</td>\n",
       "      <td>SHOWA GLOVE CO.</td>\n",
       "      <td>Himeji-shi, JP</td>\n",
       "      <td>GLOVE AND METHOD FOR PRODUCING THE SAME</td>\n",
       "      <td>https://dh-opendata.s3.amazonaws.com/publicati...</td>\n",
       "      <td>https://bulkdata.uspto.gov/data/patent/applica...</td>\n",
       "      <td>[1. A glove provided with a coating layer of r...</td>\n",
       "      <td>[1. Field of the InventionThe present inventio...</td>\n",
       "      <td>01-05-2012</td>\n",
       "      <td>US20120000005A1</td>\n",
       "    </tr>\n",
       "  </tbody>\n",
       "</table>\n",
       "</div>"
      ],
      "text/plain": [
       "  inventionSubjectMatterCategory patentApplicationNumber  filingDate  \\\n",
       "0                        utility              US13027052  02-14-2011   \n",
       "1                        utility              US12803617  07-01-2010   \n",
       "2                        utility              US13231432  09-13-2011   \n",
       "3                        utility              US13256180  03-15-2010   \n",
       "4                        utility              US13159551  06-14-2011   \n",
       "\n",
       "                            inventorNameArrayText  \\\n",
       "0  [Powell Michael Charlton, Stokes Leslie James]   \n",
       "1                                            None   \n",
       "2                             [Matthews Kevin L.]   \n",
       "3                                            None   \n",
       "4              [Kishihara Hidetoshi, Ii Yasuyuki]   \n",
       "\n",
       "                                        abstractText       assigneeEntityName  \\\n",
       "0  [The present invention provides a hand-utility...                     None   \n",
       "1  [This invention, titled “Thumb-eez”, are a cel...                     None   \n",
       "2  [A garment assembly includes a garment and a s...            CABELA'S INC.   \n",
       "3  [Exemplary embodiments of a quick release garm...  THF Innovation Pty Ltd.   \n",
       "4  [A glove with a coating layer of rubber contai...          SHOWA GLOVE CO.   \n",
       "\n",
       "  assigneePostalAddressText                           inventionTitle  \\\n",
       "0                      None                   HAND UTILITY INTERFACE   \n",
       "1                      None                                Thumb-eez   \n",
       "2                Sidney, US    GARMENT ASSEMBLY WITH DEPLOYABLE SEAT   \n",
       "3              Victoria, AU                    QUICK RELEASE GARMENT   \n",
       "4            Himeji-shi, JP  GLOVE AND METHOD FOR PRODUCING THE SAME   \n",
       "\n",
       "                                     filelocationURI  \\\n",
       "0  https://dh-opendata.s3.amazonaws.com/publicati...   \n",
       "1  https://dh-opendata.s3.amazonaws.com/publicati...   \n",
       "2  https://dh-opendata.s3.amazonaws.com/publicati...   \n",
       "3  https://dh-opendata.s3.amazonaws.com/publicati...   \n",
       "4  https://dh-opendata.s3.amazonaws.com/publicati...   \n",
       "\n",
       "                                          archiveURI  \\\n",
       "0  https://bulkdata.uspto.gov/data/patent/applica...   \n",
       "1  https://bulkdata.uspto.gov/data/patent/applica...   \n",
       "2  https://bulkdata.uspto.gov/data/patent/applica...   \n",
       "3  https://bulkdata.uspto.gov/data/patent/applica...   \n",
       "4  https://bulkdata.uspto.gov/data/patent/applica...   \n",
       "\n",
       "                                           claimText  \\\n",
       "0  [1. A hand-utility interface for use in protec...   \n",
       "1  [1. Thumb-eez allow more precise typing on min...   \n",
       "2  [1. A garment assembly comprising:a garment;a ...   \n",
       "3  [121-. (canceled)22. A quick release garment  ...   \n",
       "4  [1. A glove provided with a coating layer of r...   \n",
       "\n",
       "                                     descriptionText publicationDate  \\\n",
       "0  [The present invention relates to a hand-utili...      01-05-2012   \n",
       "1  [Not ApplicableNot ApplicableNot ApplicableThi...      01-05-2012   \n",
       "2  [This application is a continuation of and cla...      01-05-2012   \n",
       "3  [This application is a U.S. National Stage app...      01-05-2012   \n",
       "4  [1. Field of the InventionThe present inventio...      01-05-2012   \n",
       "\n",
       "  publicationDocumentIdentifier  \n",
       "0               US20120000001A1  \n",
       "1               US20120000002A1  \n",
       "2               US20120000003A1  \n",
       "3               US20120000004A1  \n",
       "4               US20120000005A1  "
      ]
     },
     "execution_count": 15,
     "metadata": {},
     "output_type": "execute_result"
    }
   ],
   "source": [
    "df.drop([\"mainCPCSymbolText\", \"furtherCPCSymbolArrayText\"], axis=1).head()"
   ]
  },
  {
   "cell_type": "code",
   "execution_count": 16,
   "metadata": {},
   "outputs": [],
   "source": [
    "df[\"inventionSubjectMatterCategory\"] = df[\"inventionSubjectMatterCategory\"].astype(\"category\")\n",
    "df[\"publicationDate\"] = pd.to_datetime(df[\"publicationDate\"])\n",
    "df[\"filingDate\"]=pd.to_datetime(df[\"filingDate\"])\n"
   ]
  },
  {
   "cell_type": "markdown",
   "metadata": {},
   "source": [
    "### Data Analysis"
   ]
  },
  {
   "cell_type": "markdown",
   "metadata": {},
   "source": [
    "inventionSubjectMatterCategory"
   ]
  },
  {
   "cell_type": "code",
   "execution_count": 17,
   "metadata": {},
   "outputs": [
    {
     "data": {
      "text/plain": [
       "inventionSubjectMatterCategory\n",
       "utility    100\n",
       "dtype: int64"
      ]
     },
     "execution_count": 17,
     "metadata": {},
     "output_type": "execute_result"
    }
   ],
   "source": [
    "df.groupby(\"inventionSubjectMatterCategory\").size()"
   ]
  },
  {
   "cell_type": "markdown",
   "metadata": {},
   "source": [
    "Filingdate & PublicationDate"
   ]
  },
  {
   "cell_type": "code",
   "execution_count": 18,
   "metadata": {},
   "outputs": [
    {
     "data": {
      "text/plain": [
       "count                    100\n",
       "mean     2011-01-03 11:45:36\n",
       "min      2006-09-29 00:00:00\n",
       "25%      2010-06-30 00:00:00\n",
       "50%      2011-06-08 12:00:00\n",
       "75%      2011-08-09 06:00:00\n",
       "max      2011-09-19 00:00:00\n",
       "Name: filingDate, dtype: object"
      ]
     },
     "execution_count": 18,
     "metadata": {},
     "output_type": "execute_result"
    }
   ],
   "source": [
    "df[\"filingDate\"].describe()"
   ]
  },
  {
   "cell_type": "code",
   "execution_count": 19,
   "metadata": {},
   "outputs": [
    {
     "data": {
      "text/plain": [
       "count                    100\n",
       "mean     2012-01-05 00:00:00\n",
       "min      2012-01-05 00:00:00\n",
       "25%      2012-01-05 00:00:00\n",
       "50%      2012-01-05 00:00:00\n",
       "75%      2012-01-05 00:00:00\n",
       "max      2012-01-05 00:00:00\n",
       "Name: publicationDate, dtype: object"
      ]
     },
     "execution_count": 19,
     "metadata": {},
     "output_type": "execute_result"
    }
   ],
   "source": [
    "df[\"publicationDate\"].describe()"
   ]
  },
  {
   "cell_type": "code",
   "execution_count": 20,
   "metadata": {},
   "outputs": [],
   "source": [
    "# group both dates based on quarters"
   ]
  },
  {
   "cell_type": "code",
   "execution_count": 21,
   "metadata": {},
   "outputs": [],
   "source": [
    "df[\"day_differential\"]=df[\"publicationDate\"]-df[\"filingDate\"]"
   ]
  },
  {
   "cell_type": "code",
   "execution_count": 22,
   "metadata": {},
   "outputs": [
    {
     "data": {
      "text/plain": [
       "count                            100\n",
       "mean               366 days 12:14:24\n",
       "std      280 days 13:22:48.653526696\n",
       "min                108 days 00:00:00\n",
       "25%                148 days 18:00:00\n",
       "50%                210 days 12:00:00\n",
       "75%                554 days 00:00:00\n",
       "max               1924 days 00:00:00\n",
       "Name: day_differential, dtype: object"
      ]
     },
     "execution_count": 22,
     "metadata": {},
     "output_type": "execute_result"
    }
   ],
   "source": [
    "df[\"day_differential\"].describe()"
   ]
  },
  {
   "cell_type": "code",
   "execution_count": 23,
   "metadata": {},
   "outputs": [
    {
     "ename": "NameError",
     "evalue": "name 'plt' is not defined",
     "output_type": "error",
     "traceback": [
      "\u001b[1;31m---------------------------------------------------------------------------\u001b[0m",
      "\u001b[1;31mNameError\u001b[0m                                 Traceback (most recent call last)",
      "\u001b[1;32m<ipython-input-23-0e4c1d2d2ae2>\u001b[0m in \u001b[0;36m<module>\u001b[1;34m\u001b[0m\n\u001b[0;32m      1\u001b[0m \u001b[0mdf\u001b[0m\u001b[1;33m[\u001b[0m\u001b[1;34m'day_differential'\u001b[0m\u001b[1;33m]\u001b[0m \u001b[1;33m=\u001b[0m \u001b[0mdf\u001b[0m\u001b[1;33m[\u001b[0m\u001b[1;34m'day_differential'\u001b[0m\u001b[1;33m]\u001b[0m\u001b[1;33m.\u001b[0m\u001b[0mdt\u001b[0m\u001b[1;33m.\u001b[0m\u001b[0mdays\u001b[0m\u001b[1;33m\u001b[0m\u001b[1;33m\u001b[0m\u001b[0m\n\u001b[1;32m----> 2\u001b[1;33m \u001b[0mplt\u001b[0m\u001b[1;33m.\u001b[0m\u001b[0mboxplot\u001b[0m\u001b[1;33m(\u001b[0m\u001b[0mdf\u001b[0m\u001b[1;33m[\u001b[0m\u001b[1;34m\"day_differential\"\u001b[0m\u001b[1;33m]\u001b[0m\u001b[1;33m)\u001b[0m\u001b[1;33m\u001b[0m\u001b[1;33m\u001b[0m\u001b[0m\n\u001b[0m\u001b[0;32m      3\u001b[0m \u001b[1;33m\u001b[0m\u001b[0m\n",
      "\u001b[1;31mNameError\u001b[0m: name 'plt' is not defined"
     ]
    }
   ],
   "source": [
    "df['day_differential'] = df['day_differential'].dt.days\n",
    "plt.boxplot(df[\"day_differential\"])\n",
    "\n"
   ]
  },
  {
   "cell_type": "markdown",
   "metadata": {},
   "source": [
    "InventorNameArrayText"
   ]
  },
  {
   "cell_type": "code",
   "execution_count": 107,
   "metadata": {},
   "outputs": [
    {
     "data": {
      "text/plain": [
       "20"
      ]
     },
     "execution_count": 107,
     "metadata": {},
     "output_type": "execute_result"
    }
   ],
   "source": [
    "#count number of null values\n",
    "df[\"inventorNameArrayText\"].isnull().sum()"
   ]
  },
  {
   "cell_type": "code",
   "execution_count": 26,
   "metadata": {},
   "outputs": [],
   "source": [
    "#data points are formatted in an array, need to extract first and group after\n",
    "lst = []\n",
    "for x in df[\"inventorNameArrayText\"]:\n",
    "    if x is not None:  # Check if x is not None\n",
    "        for y in x:\n",
    "            lst.append(y)\n",
    "inventor=pd.DataFrame(lst)\n",
    "\n"
   ]
  },
  {
   "cell_type": "code",
   "execution_count": 27,
   "metadata": {},
   "outputs": [
    {
     "name": "stdout",
     "output_type": "stream",
     "text": [
      "number of inventor overall:\n"
     ]
    },
    {
     "data": {
      "text/plain": [
       "0    177\n",
       "dtype: int64"
      ]
     },
     "execution_count": 27,
     "metadata": {},
     "output_type": "execute_result"
    }
   ],
   "source": [
    "a=inventor.count()\n",
    "print(\"number of inventor overall:\")\n",
    "a"
   ]
  },
  {
   "cell_type": "code",
   "execution_count": 36,
   "metadata": {},
   "outputs": [
    {
     "data": {
      "text/html": [
       "<div>\n",
       "<style scoped>\n",
       "    .dataframe tbody tr th:only-of-type {\n",
       "        vertical-align: middle;\n",
       "    }\n",
       "\n",
       "    .dataframe tbody tr th {\n",
       "        vertical-align: top;\n",
       "    }\n",
       "\n",
       "    .dataframe thead th {\n",
       "        text-align: right;\n",
       "    }\n",
       "</style>\n",
       "<table border=\"1\" class=\"dataframe\">\n",
       "  <thead>\n",
       "    <tr style=\"text-align: right;\">\n",
       "      <th></th>\n",
       "      <th>0</th>\n",
       "      <th>count</th>\n",
       "    </tr>\n",
       "  </thead>\n",
       "  <tbody>\n",
       "    <tr>\n",
       "      <th>0</th>\n",
       "      <td>ALMABEKOV Didar</td>\n",
       "      <td>1</td>\n",
       "    </tr>\n",
       "    <tr>\n",
       "      <th>1</th>\n",
       "      <td>Albrecht Timothy</td>\n",
       "      <td>1</td>\n",
       "    </tr>\n",
       "    <tr>\n",
       "      <th>2</th>\n",
       "      <td>Allott Mark T.</td>\n",
       "      <td>1</td>\n",
       "    </tr>\n",
       "    <tr>\n",
       "      <th>3</th>\n",
       "      <td>Anthony Anthony</td>\n",
       "      <td>1</td>\n",
       "    </tr>\n",
       "    <tr>\n",
       "      <th>4</th>\n",
       "      <td>Anthony David</td>\n",
       "      <td>1</td>\n",
       "    </tr>\n",
       "    <tr>\n",
       "      <th>...</th>\n",
       "      <td>...</td>\n",
       "      <td>...</td>\n",
       "    </tr>\n",
       "    <tr>\n",
       "      <th>171</th>\n",
       "      <td>Wortman Michael L.</td>\n",
       "      <td>1</td>\n",
       "    </tr>\n",
       "    <tr>\n",
       "      <th>172</th>\n",
       "      <td>Wright Clifford</td>\n",
       "      <td>1</td>\n",
       "    </tr>\n",
       "    <tr>\n",
       "      <th>173</th>\n",
       "      <td>XIA Jigui</td>\n",
       "      <td>1</td>\n",
       "    </tr>\n",
       "    <tr>\n",
       "      <th>174</th>\n",
       "      <td>XIA Yonghui</td>\n",
       "      <td>1</td>\n",
       "    </tr>\n",
       "    <tr>\n",
       "      <th>175</th>\n",
       "      <td>ZHANG YONG-GANG</td>\n",
       "      <td>1</td>\n",
       "    </tr>\n",
       "  </tbody>\n",
       "</table>\n",
       "<p>176 rows × 2 columns</p>\n",
       "</div>"
      ],
      "text/plain": [
       "                      0  count\n",
       "0       ALMABEKOV Didar      1\n",
       "1      Albrecht Timothy      1\n",
       "2        Allott Mark T.      1\n",
       "3       Anthony Anthony      1\n",
       "4         Anthony David      1\n",
       "..                  ...    ...\n",
       "171  Wortman Michael L.      1\n",
       "172     Wright Clifford      1\n",
       "173           XIA Jigui      1\n",
       "174         XIA Yonghui      1\n",
       "175     ZHANG YONG-GANG      1\n",
       "\n",
       "[176 rows x 2 columns]"
      ]
     },
     "execution_count": 36,
     "metadata": {},
     "output_type": "execute_result"
    }
   ],
   "source": [
    "counter=inventor.groupby(inventor[0]).size().reset_index(name='count')\n",
    "counter"
   ]
  },
  {
   "cell_type": "code",
   "execution_count": 37,
   "metadata": {},
   "outputs": [
    {
     "data": {
      "text/html": [
       "<div>\n",
       "<style scoped>\n",
       "    .dataframe tbody tr th:only-of-type {\n",
       "        vertical-align: middle;\n",
       "    }\n",
       "\n",
       "    .dataframe tbody tr th {\n",
       "        vertical-align: top;\n",
       "    }\n",
       "\n",
       "    .dataframe thead th {\n",
       "        text-align: right;\n",
       "    }\n",
       "</style>\n",
       "<table border=\"1\" class=\"dataframe\">\n",
       "  <thead>\n",
       "    <tr style=\"text-align: right;\">\n",
       "      <th></th>\n",
       "      <th>0</th>\n",
       "      <th>count</th>\n",
       "    </tr>\n",
       "  </thead>\n",
       "  <tbody>\n",
       "    <tr>\n",
       "      <th>54</th>\n",
       "      <td>Hall David R.</td>\n",
       "      <td>2</td>\n",
       "    </tr>\n",
       "  </tbody>\n",
       "</table>\n",
       "</div>"
      ],
      "text/plain": [
       "                0  count\n",
       "54  Hall David R.      2"
      ]
     },
     "execution_count": 37,
     "metadata": {},
     "output_type": "execute_result"
    }
   ],
   "source": [
    "counter[counter[\"count\"]!=1]"
   ]
  },
  {
   "cell_type": "code",
   "execution_count": 30,
   "metadata": {},
   "outputs": [
    {
     "data": {
      "text/html": [
       "<div>\n",
       "<style scoped>\n",
       "    .dataframe tbody tr th:only-of-type {\n",
       "        vertical-align: middle;\n",
       "    }\n",
       "\n",
       "    .dataframe tbody tr th {\n",
       "        vertical-align: top;\n",
       "    }\n",
       "\n",
       "    .dataframe thead th {\n",
       "        text-align: right;\n",
       "    }\n",
       "</style>\n",
       "<table border=\"1\" class=\"dataframe\">\n",
       "  <thead>\n",
       "    <tr style=\"text-align: right;\">\n",
       "      <th></th>\n",
       "      <th>inventionSubjectMatterCategory</th>\n",
       "      <th>patentApplicationNumber</th>\n",
       "      <th>filingDate</th>\n",
       "      <th>mainCPCSymbolText</th>\n",
       "      <th>furtherCPCSymbolArrayText</th>\n",
       "      <th>inventorNameArrayText</th>\n",
       "      <th>abstractText</th>\n",
       "      <th>assigneeEntityName</th>\n",
       "      <th>assigneePostalAddressText</th>\n",
       "      <th>inventionTitle</th>\n",
       "      <th>filelocationURI</th>\n",
       "      <th>archiveURI</th>\n",
       "      <th>claimText</th>\n",
       "      <th>descriptionText</th>\n",
       "      <th>publicationDate</th>\n",
       "      <th>publicationDocumentIdentifier</th>\n",
       "      <th>day_differential</th>\n",
       "    </tr>\n",
       "  </thead>\n",
       "  <tbody>\n",
       "    <tr>\n",
       "      <th>0</th>\n",
       "      <td>utility</td>\n",
       "      <td>US13027052</td>\n",
       "      <td>2011-02-14</td>\n",
       "      <td>None</td>\n",
       "      <td>None</td>\n",
       "      <td>[Powell Michael Charlton, Stokes Leslie James]</td>\n",
       "      <td>[The present invention provides a hand-utility...</td>\n",
       "      <td>None</td>\n",
       "      <td>None</td>\n",
       "      <td>HAND UTILITY INTERFACE</td>\n",
       "      <td>https://dh-opendata.s3.amazonaws.com/publicati...</td>\n",
       "      <td>https://bulkdata.uspto.gov/data/patent/applica...</td>\n",
       "      <td>[1. A hand-utility interface for use in protec...</td>\n",
       "      <td>[The present invention relates to a hand-utili...</td>\n",
       "      <td>2012-01-05</td>\n",
       "      <td>US20120000001A1</td>\n",
       "      <td>325</td>\n",
       "    </tr>\n",
       "    <tr>\n",
       "      <th>1</th>\n",
       "      <td>utility</td>\n",
       "      <td>US12803617</td>\n",
       "      <td>2010-07-01</td>\n",
       "      <td>None</td>\n",
       "      <td>None</td>\n",
       "      <td>None</td>\n",
       "      <td>[This invention, titled “Thumb-eez”, are a cel...</td>\n",
       "      <td>None</td>\n",
       "      <td>None</td>\n",
       "      <td>Thumb-eez</td>\n",
       "      <td>https://dh-opendata.s3.amazonaws.com/publicati...</td>\n",
       "      <td>https://bulkdata.uspto.gov/data/patent/applica...</td>\n",
       "      <td>[1. Thumb-eez allow more precise typing on min...</td>\n",
       "      <td>[Not ApplicableNot ApplicableNot ApplicableThi...</td>\n",
       "      <td>2012-01-05</td>\n",
       "      <td>US20120000002A1</td>\n",
       "      <td>553</td>\n",
       "    </tr>\n",
       "    <tr>\n",
       "      <th>2</th>\n",
       "      <td>utility</td>\n",
       "      <td>US13231432</td>\n",
       "      <td>2011-09-13</td>\n",
       "      <td>None</td>\n",
       "      <td>None</td>\n",
       "      <td>[Matthews Kevin L.]</td>\n",
       "      <td>[A garment assembly includes a garment and a s...</td>\n",
       "      <td>CABELA'S INC.</td>\n",
       "      <td>Sidney, US</td>\n",
       "      <td>GARMENT ASSEMBLY WITH DEPLOYABLE SEAT</td>\n",
       "      <td>https://dh-opendata.s3.amazonaws.com/publicati...</td>\n",
       "      <td>https://bulkdata.uspto.gov/data/patent/applica...</td>\n",
       "      <td>[1. A garment assembly comprising:a garment;a ...</td>\n",
       "      <td>[This application is a continuation of and cla...</td>\n",
       "      <td>2012-01-05</td>\n",
       "      <td>US20120000003A1</td>\n",
       "      <td>114</td>\n",
       "    </tr>\n",
       "    <tr>\n",
       "      <th>3</th>\n",
       "      <td>utility</td>\n",
       "      <td>US13256180</td>\n",
       "      <td>2010-03-15</td>\n",
       "      <td>None</td>\n",
       "      <td>None</td>\n",
       "      <td>None</td>\n",
       "      <td>[Exemplary embodiments of a quick release garm...</td>\n",
       "      <td>THF Innovation Pty Ltd.</td>\n",
       "      <td>Victoria, AU</td>\n",
       "      <td>QUICK RELEASE GARMENT</td>\n",
       "      <td>https://dh-opendata.s3.amazonaws.com/publicati...</td>\n",
       "      <td>https://bulkdata.uspto.gov/data/patent/applica...</td>\n",
       "      <td>[121-. (canceled)22. A quick release garment  ...</td>\n",
       "      <td>[This application is a U.S. National Stage app...</td>\n",
       "      <td>2012-01-05</td>\n",
       "      <td>US20120000004A1</td>\n",
       "      <td>661</td>\n",
       "    </tr>\n",
       "    <tr>\n",
       "      <th>4</th>\n",
       "      <td>utility</td>\n",
       "      <td>US13159551</td>\n",
       "      <td>2011-06-14</td>\n",
       "      <td>None</td>\n",
       "      <td>None</td>\n",
       "      <td>[Kishihara Hidetoshi, Ii Yasuyuki]</td>\n",
       "      <td>[A glove with a coating layer of rubber contai...</td>\n",
       "      <td>SHOWA GLOVE CO.</td>\n",
       "      <td>Himeji-shi, JP</td>\n",
       "      <td>GLOVE AND METHOD FOR PRODUCING THE SAME</td>\n",
       "      <td>https://dh-opendata.s3.amazonaws.com/publicati...</td>\n",
       "      <td>https://bulkdata.uspto.gov/data/patent/applica...</td>\n",
       "      <td>[1. A glove provided with a coating layer of r...</td>\n",
       "      <td>[1. Field of the InventionThe present inventio...</td>\n",
       "      <td>2012-01-05</td>\n",
       "      <td>US20120000005A1</td>\n",
       "      <td>205</td>\n",
       "    </tr>\n",
       "  </tbody>\n",
       "</table>\n",
       "</div>"
      ],
      "text/plain": [
       "  inventionSubjectMatterCategory patentApplicationNumber filingDate  \\\n",
       "0                        utility              US13027052 2011-02-14   \n",
       "1                        utility              US12803617 2010-07-01   \n",
       "2                        utility              US13231432 2011-09-13   \n",
       "3                        utility              US13256180 2010-03-15   \n",
       "4                        utility              US13159551 2011-06-14   \n",
       "\n",
       "  mainCPCSymbolText furtherCPCSymbolArrayText  \\\n",
       "0              None                      None   \n",
       "1              None                      None   \n",
       "2              None                      None   \n",
       "3              None                      None   \n",
       "4              None                      None   \n",
       "\n",
       "                            inventorNameArrayText  \\\n",
       "0  [Powell Michael Charlton, Stokes Leslie James]   \n",
       "1                                            None   \n",
       "2                             [Matthews Kevin L.]   \n",
       "3                                            None   \n",
       "4              [Kishihara Hidetoshi, Ii Yasuyuki]   \n",
       "\n",
       "                                        abstractText       assigneeEntityName  \\\n",
       "0  [The present invention provides a hand-utility...                     None   \n",
       "1  [This invention, titled “Thumb-eez”, are a cel...                     None   \n",
       "2  [A garment assembly includes a garment and a s...            CABELA'S INC.   \n",
       "3  [Exemplary embodiments of a quick release garm...  THF Innovation Pty Ltd.   \n",
       "4  [A glove with a coating layer of rubber contai...          SHOWA GLOVE CO.   \n",
       "\n",
       "  assigneePostalAddressText                           inventionTitle  \\\n",
       "0                      None                   HAND UTILITY INTERFACE   \n",
       "1                      None                                Thumb-eez   \n",
       "2                Sidney, US    GARMENT ASSEMBLY WITH DEPLOYABLE SEAT   \n",
       "3              Victoria, AU                    QUICK RELEASE GARMENT   \n",
       "4            Himeji-shi, JP  GLOVE AND METHOD FOR PRODUCING THE SAME   \n",
       "\n",
       "                                     filelocationURI  \\\n",
       "0  https://dh-opendata.s3.amazonaws.com/publicati...   \n",
       "1  https://dh-opendata.s3.amazonaws.com/publicati...   \n",
       "2  https://dh-opendata.s3.amazonaws.com/publicati...   \n",
       "3  https://dh-opendata.s3.amazonaws.com/publicati...   \n",
       "4  https://dh-opendata.s3.amazonaws.com/publicati...   \n",
       "\n",
       "                                          archiveURI  \\\n",
       "0  https://bulkdata.uspto.gov/data/patent/applica...   \n",
       "1  https://bulkdata.uspto.gov/data/patent/applica...   \n",
       "2  https://bulkdata.uspto.gov/data/patent/applica...   \n",
       "3  https://bulkdata.uspto.gov/data/patent/applica...   \n",
       "4  https://bulkdata.uspto.gov/data/patent/applica...   \n",
       "\n",
       "                                           claimText  \\\n",
       "0  [1. A hand-utility interface for use in protec...   \n",
       "1  [1. Thumb-eez allow more precise typing on min...   \n",
       "2  [1. A garment assembly comprising:a garment;a ...   \n",
       "3  [121-. (canceled)22. A quick release garment  ...   \n",
       "4  [1. A glove provided with a coating layer of r...   \n",
       "\n",
       "                                     descriptionText publicationDate  \\\n",
       "0  [The present invention relates to a hand-utili...      2012-01-05   \n",
       "1  [Not ApplicableNot ApplicableNot ApplicableThi...      2012-01-05   \n",
       "2  [This application is a continuation of and cla...      2012-01-05   \n",
       "3  [This application is a U.S. National Stage app...      2012-01-05   \n",
       "4  [1. Field of the InventionThe present inventio...      2012-01-05   \n",
       "\n",
       "  publicationDocumentIdentifier  day_differential  \n",
       "0               US20120000001A1               325  \n",
       "1               US20120000002A1               553  \n",
       "2               US20120000003A1               114  \n",
       "3               US20120000004A1               661  \n",
       "4               US20120000005A1               205  "
      ]
     },
     "execution_count": 30,
     "metadata": {},
     "output_type": "execute_result"
    }
   ],
   "source": [
    "df.head()"
   ]
  },
  {
   "cell_type": "markdown",
   "metadata": {},
   "source": [
    "AssigneePostalAddressText"
   ]
  },
  {
   "cell_type": "code",
   "execution_count": 31,
   "metadata": {},
   "outputs": [
    {
     "data": {
      "text/plain": [
       "53"
      ]
     },
     "execution_count": 31,
     "metadata": {},
     "output_type": "execute_result"
    }
   ],
   "source": [
    "#count number of null values\n",
    "df[\"assigneePostalAddressText\"].isnull().sum()"
   ]
  },
  {
   "cell_type": "code",
   "execution_count": 32,
   "metadata": {},
   "outputs": [],
   "source": [
    "import re\n",
    "def get_country(address):\n",
    "    pattern = re.compile(r'\\b(?:[A-Z][a-z]*\\s?)+$')\n",
    "    if address is not None:\n",
    "        match = pattern.search(address)\n",
    "        if match:\n",
    "            return match.group(0)\n",
    "        return None\n",
    "#classify based on country\n",
    "df[\"country\"]=df[\"assigneePostalAddressText\"].apply(get_country)"
   ]
  },
  {
   "cell_type": "code",
   "execution_count": 34,
   "metadata": {},
   "outputs": [],
   "source": [
    "#classify based on country\n",
    "df[\"country\"]=df[\"assigneePostalAddressText\"].apply(get_country)"
   ]
  },
  {
   "cell_type": "code",
   "execution_count": 38,
   "metadata": {},
   "outputs": [
    {
     "ename": "NameError",
     "evalue": "name 'plt' is not defined",
     "output_type": "error",
     "traceback": [
      "\u001b[1;31m---------------------------------------------------------------------------\u001b[0m",
      "\u001b[1;31mNameError\u001b[0m                                 Traceback (most recent call last)",
      "\u001b[1;32m<ipython-input-38-3848621daa5f>\u001b[0m in \u001b[0;36m<module>\u001b[1;34m\u001b[0m\n\u001b[0;32m      1\u001b[0m \u001b[1;31m# Group by 'country' and count occurrences\u001b[0m\u001b[1;33m\u001b[0m\u001b[1;33m\u001b[0m\u001b[1;33m\u001b[0m\u001b[0m\n\u001b[0;32m      2\u001b[0m \u001b[0mcountry_counts\u001b[0m \u001b[1;33m=\u001b[0m \u001b[0mdf\u001b[0m\u001b[1;33m.\u001b[0m\u001b[0mgroupby\u001b[0m\u001b[1;33m(\u001b[0m\u001b[1;34m'country'\u001b[0m\u001b[1;33m)\u001b[0m\u001b[1;33m.\u001b[0m\u001b[0msize\u001b[0m\u001b[1;33m(\u001b[0m\u001b[1;33m)\u001b[0m\u001b[1;33m.\u001b[0m\u001b[0mreset_index\u001b[0m\u001b[1;33m(\u001b[0m\u001b[0mname\u001b[0m\u001b[1;33m=\u001b[0m\u001b[1;34m'count'\u001b[0m\u001b[1;33m)\u001b[0m\u001b[1;33m\u001b[0m\u001b[1;33m\u001b[0m\u001b[0m\n\u001b[1;32m----> 3\u001b[1;33m \u001b[0mplt\u001b[0m\u001b[1;33m.\u001b[0m\u001b[0mbar\u001b[0m\u001b[1;33m(\u001b[0m\u001b[0mcountry_counts\u001b[0m\u001b[1;33m[\u001b[0m\u001b[1;34m\"country\"\u001b[0m\u001b[1;33m]\u001b[0m\u001b[1;33m,\u001b[0m \u001b[0mcountry_counts\u001b[0m\u001b[1;33m[\u001b[0m\u001b[1;34m\"count\"\u001b[0m\u001b[1;33m]\u001b[0m\u001b[1;33m)\u001b[0m\u001b[1;33m\u001b[0m\u001b[1;33m\u001b[0m\u001b[0m\n\u001b[0m",
      "\u001b[1;31mNameError\u001b[0m: name 'plt' is not defined"
     ]
    }
   ],
   "source": [
    "# Group by 'country' and count occurrences\n",
    "country_counts = df.groupby('country').size().reset_index(name='count')\n",
    "plt.bar(country_counts[\"country\"], country_counts[\"count\"])"
   ]
  },
  {
   "cell_type": "markdown",
   "metadata": {},
   "source": [
    "DescriptionText & ClaimText"
   ]
  },
  {
   "cell_type": "code",
   "execution_count": null,
   "metadata": {},
   "outputs": [],
   "source": [
    "nltk.download('punkt')\n",
    "nltk.download('wordnet')\n",
    "nltk.download('stopwords')"
   ]
  },
  {
   "cell_type": "code",
   "execution_count": null,
   "metadata": {},
   "outputs": [],
   "source": [
    "texts = pd.DataFrame({\n",
    "    'title': df['inventionTitle'],  # Column for title\n",
    "    'claim': df['claimText'],\n",
    "    'desc': df[\"descriptionText\"]\n",
    "})"
   ]
  },
  {
   "cell_type": "code",
   "execution_count": null,
   "metadata": {},
   "outputs": [],
   "source": [
    "def convert_text(lst_txt):\n",
    "  return (\"\".join(lst_txt))"
   ]
  },
  {
   "cell_type": "code",
   "execution_count": null,
   "metadata": {},
   "outputs": [],
   "source": [
    "texts[\"claim\"]=texts[\"claim\"].apply(convert_text)\n",
    "texts[\"desc\"]=texts[\"desc\"].apply(convert_text)"
   ]
  },
  {
   "cell_type": "code",
   "execution_count": null,
   "metadata": {},
   "outputs": [],
   "source": [
    "texts[\"claim\"].isnull().sum()"
   ]
  },
  {
   "cell_type": "code",
   "execution_count": null,
   "metadata": {},
   "outputs": [],
   "source": [
    "lemmatizer = WordNetLemmatizer()\n",
    "def process_text(text):\n",
    "    # Tokenize the text\n",
    "    words = word_tokenize(text)\n",
    "\n",
    "    # Initialize stopwords set\n",
    "    stop_words = set(stopwords.words('english'))\n",
    "\n",
    "    # Remove stopwords and non-alphabetic words\n",
    "    filtered_words = [word for word in words if word.isalpha() and word.lower() not in stop_words]\n",
    "\n",
    "    # Lemmatize each word\n",
    "    lemmatized_words = [lemmatizer.lemmatize(word) for word in filtered_words]\n",
    "\n",
    "    return lemmatized_words"
   ]
  },
  {
   "cell_type": "code",
   "execution_count": null,
   "metadata": {},
   "outputs": [],
   "source": [
    "texts[\"lemma_desc\"] = texts[\"desc\"].apply(process_text)\n",
    "texts[\"lemma_claim\"] = texts[\"claim\"].apply(process_text)"
   ]
  },
  {
   "cell_type": "code",
   "execution_count": null,
   "metadata": {},
   "outputs": [],
   "source": [
    "#show similarity between desc, abstract, and claim\n",
    "#get overlapping words used\n",
    "s=set()\n",
    "b=set()\n",
    "for x in texts[\"lemma_claim\"]:\n",
    "  for y in x:\n",
    "    s.add(y)\n",
    "for a in texts[\"lemma_desc\"]:\n",
    "  for c in a:\n",
    "    b.add(c)\n",
    "\n",
    "result=s.intersection(b)\n",
    "print(len(result))"
   ]
  },
  {
   "cell_type": "code",
   "execution_count": null,
   "metadata": {},
   "outputs": [],
   "source": [
    "vectorizer = TfidfVectorizer(max_features=500)\n",
    "texts[\"lemma_claim\"]=texts[\"lemma_claim\"].apply(lambda x: \" \".join(x))\n",
    "dtm = vectorizer.fit_transform(texts[\"lemma_claim\"])\n",
    "dtm_df1 = pd.DataFrame(dtm.toarray(), columns=vectorizer.get_feature_names_out())"
   ]
  },
  {
   "cell_type": "code",
   "execution_count": null,
   "metadata": {},
   "outputs": [],
   "source": [
    "vectorizer = TfidfVectorizer(max_features=500)\n",
    "texts[\"lemma_desc\"]=texts[\"lemma_desc\"].apply(lambda x: \" \".join(x))\n",
    "dtm1 = vectorizer.fit_transform(texts[\"lemma_desc\"])\n",
    "dtm_df2 = pd.DataFrame(dtm.toarray(), columns=vectorizer.get_feature_names_out())\n",
    "print(dtm_df2)"
   ]
  },
  {
   "cell_type": "code",
   "execution_count": null,
   "metadata": {},
   "outputs": [],
   "source": [
    "wc = WordCloud().generate(' '.join(texts[\"lemma_claim\"]))\n",
    "plt.figure(figsize=(10, 5))\n",
    "plt.imshow(wc, interpolation='bilinear')\n",
    "plt.axis('off')\n",
    "plt.title(\"Claim Word Cloud\")\n",
    "plt.show()"
   ]
  },
  {
   "cell_type": "code",
   "execution_count": null,
   "metadata": {},
   "outputs": [],
   "source": [
    "wc = WordCloud().generate(' '.join(texts[\"lemma_desc\"]))\n",
    "plt.figure(figsize=(10, 5))\n",
    "plt.imshow(wc, interpolation='bilinear')\n",
    "plt.axis('off')\n",
    "plt.title(\"Description Text Word Cloud\")\n",
    "plt.show()"
   ]
  },
  {
   "cell_type": "code",
   "execution_count": null,
   "metadata": {},
   "outputs": [],
   "source": []
  }
 ],
 "metadata": {
  "kernelspec": {
   "display_name": "Python 3",
   "language": "python",
   "name": "python3"
  },
  "language_info": {
   "codemirror_mode": {
    "name": "ipython",
    "version": 3
   },
   "file_extension": ".py",
   "mimetype": "text/x-python",
   "name": "python",
   "nbconvert_exporter": "python",
   "pygments_lexer": "ipython3",
   "version": "3.8.5"
  }
 },
 "nbformat": 4,
 "nbformat_minor": 2
}
